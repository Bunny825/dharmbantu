{
 "cells": [
  {
   "cell_type": "code",
   "execution_count": 41,
   "metadata": {},
   "outputs": [],
   "source": [
    "import cassio\n",
    "from dotenv import load_dotenv\n",
    "import os\n",
    "\n",
    "\n",
    "load_dotenv()\n",
    "\n",
    "\n",
    "os.environ[\"ASTRA_DB_APPLICATION_TOKEN\"] = os.getenv(\"ASTRA_DB_APPLICATION_TOKEN\")\n",
    "os.environ[\"ASTRA_DB_ID\"] = os.getenv(\"ASTRA_DB_ID\")\n",
    "\n",
    "cassio.init(\n",
    "    token=os.environ[\"ASTRA_DB_APPLICATION_TOKEN\"],\n",
    "    database_id=os.environ[\"ASTRA_DB_ID\"]\n",
    ")\n"
   ]
  },
  {
   "cell_type": "code",
   "execution_count": 42,
   "metadata": {},
   "outputs": [],
   "source": [
    "from langchain_openai import OpenAIEmbeddings\n",
    "embeddings=OpenAIEmbeddings()"
   ]
  },
  {
   "cell_type": "code",
   "execution_count": 62,
   "metadata": {},
   "outputs": [],
   "source": [
    "from langchain.vectorstores.cassandra import Cassandra\n",
    "astra_vector_store=Cassandra(\n",
    "    embedding=embeddings,\n",
    "    table_name=\"Dharmbantu\",\n",
    "    session=None,\n",
    "    keyspace=None\n",
    "\n",
    ")"
   ]
  },
  {
   "cell_type": "code",
   "execution_count": 44,
   "metadata": {},
   "outputs": [],
   "source": [
    "import pickle\n",
    "with open(\"partial_docs.pkl\", \"rb\") as file:\n",
    "    acts_docs = pickle.load(file)"
   ]
  },
  {
   "cell_type": "code",
   "execution_count": 45,
   "metadata": {},
   "outputs": [
    {
     "name": "stdout",
     "output_type": "stream",
     "text": [
      "853\n"
     ]
    }
   ],
   "source": [
    "print(len(acts_docs))"
   ]
  },
  {
   "cell_type": "code",
   "execution_count": 46,
   "metadata": {},
   "outputs": [],
   "source": [
    "from langchain.text_splitter import RecursiveCharacterTextSplitter\n",
    "splitter=RecursiveCharacterTextSplitter.from_tiktoken_encoder(chunk_size=3000,chunk_overlap=400)\n",
    "docs=splitter.split_documents(acts_docs)"
   ]
  },
  {
   "cell_type": "code",
   "execution_count": 47,
   "metadata": {},
   "outputs": [
    {
     "data": {
      "text/plain": [
       "4894"
      ]
     },
     "execution_count": 47,
     "metadata": {},
     "output_type": "execute_result"
    }
   ],
   "source": [
    "len(docs)"
   ]
  },
  {
   "cell_type": "code",
   "execution_count": 48,
   "metadata": {},
   "outputs": [],
   "source": [
    "import time\n",
    "\n",
    "previous=0\n",
    "for i in range(100,1000,100):\n",
    "    astra_vector_store.add_documents(docs[previous:i])\n",
    "    previous=i\n",
    "    time.sleep(1)\n",
    "\n"
   ]
  },
  {
   "cell_type": "code",
   "execution_count": 49,
   "metadata": {},
   "outputs": [],
   "source": [
    "time.sleep(300)"
   ]
  },
  {
   "cell_type": "code",
   "execution_count": 50,
   "metadata": {},
   "outputs": [],
   "source": [
    "import time\n",
    "\n",
    "previous=1000\n",
    "for i in range(1100,2000,100):\n",
    "    astra_vector_store.add_documents(docs[previous:i])\n",
    "    previous=i\n",
    "    time.sleep(1)\n",
    "\n"
   ]
  },
  {
   "cell_type": "code",
   "execution_count": 51,
   "metadata": {},
   "outputs": [],
   "source": [
    "time.sleep(120)"
   ]
  },
  {
   "cell_type": "code",
   "execution_count": 52,
   "metadata": {},
   "outputs": [],
   "source": [
    "import time\n",
    "\n",
    "previous=2000\n",
    "for i in range(2100,3000,100):\n",
    "    astra_vector_store.add_documents(docs[previous:i])\n",
    "    previous=i\n",
    "    time.sleep(1)\n",
    "\n"
   ]
  },
  {
   "cell_type": "code",
   "execution_count": 53,
   "metadata": {},
   "outputs": [],
   "source": [
    "time.sleep(120)"
   ]
  },
  {
   "cell_type": "code",
   "execution_count": 55,
   "metadata": {},
   "outputs": [],
   "source": [
    "import time\n",
    "\n",
    "previous=3000\n",
    "for i in range(3050,4000,50):\n",
    "    astra_vector_store.add_documents(docs[previous:i])\n",
    "    previous=i\n",
    "    time.sleep(1)\n",
    "\n"
   ]
  },
  {
   "cell_type": "code",
   "execution_count": 60,
   "metadata": {},
   "outputs": [
    {
     "data": {
      "text/plain": [
       "['2f63cc987e44418e85eab2bde9a60aa4',\n",
       " '74153f6e18a54c54a03815ec5aafa6a1',\n",
       " 'e9a7ea6af41a44bda72b0c070c04ce8e',\n",
       " 'de6292185cff42569181b83019bcb297',\n",
       " 'b55fd969dcbf41d582fc81188bf2cbcd',\n",
       " 'b5f5ce7b4c8246c5a2568261f4bce32e',\n",
       " '14b7c33aba894037a19fdf707b9ecfb4',\n",
       " '2f115786b5d441749ae2cb4ea55f144e',\n",
       " 'b92acd8d7c194f47819fa03f11a1e6d9',\n",
       " '15bf97ac08314f03b31cb2f5f0535fc3',\n",
       " '6e2ae59a1a54499b88ccfd1450f2748e',\n",
       " 'fc4423eb86e941aba63d127383196d2d',\n",
       " '55a3dba6c5624fa98716c2bac358f2a6',\n",
       " '8048e6510da14a70aaaf374c694085ad',\n",
       " '31a2a50236714d6ca77df3f1558a563e',\n",
       " 'd038dbafffbf47479153279b6404bea0',\n",
       " 'f91c975b430e4c58897dd85c24d53a4d',\n",
       " '634984e972b64397b1fabb582153b2e5',\n",
       " '106c0340a0ab4218a9779495d7005c74',\n",
       " 'aebb24682a894f5984e9be293b5b1228',\n",
       " '95b769e27a484aaa99c55b567aa847ce',\n",
       " '8d5256f905594a818c34cb982c0f5660',\n",
       " '0060df2adec747308cd57d0bbbb19ce8',\n",
       " '7b66b1d310bc49e1829bcc599230f7e2',\n",
       " '8ef63bf9401d40fb996d6b65e807f918',\n",
       " 'a4039489658f467397eb86e5214998dd',\n",
       " '976cf378991e4697b7843f76916ba647',\n",
       " '173d04ab6c91417683b94c0af439483a',\n",
       " '4b63883912b14ad1b7456e2df1e51495',\n",
       " '0b7a3281f89d463c8659e934efb64b5d',\n",
       " 'f2c16249689c44149b3a4ab0bf79faea',\n",
       " '2622503f11f945ac98bb4ea27c2c293f',\n",
       " 'b0fd077e06254e7a8376a0465750da15',\n",
       " 'a51dbb39f394419da137434d08df341b',\n",
       " 'c1c502c94dd64effa435e54403f331a9',\n",
       " 'fffd9e80cabc4c34882c59a9e3a4e1bc',\n",
       " '5294ba6546554a7f873b123fa11b9c1b',\n",
       " 'e215008922854f29adcd552ad546ec18',\n",
       " '9cbf4fd290bc4f969a4be27bd5299707',\n",
       " 'b73a19f4f4e6404a9d34ef4ae95b7b8d',\n",
       " '0b7be9711f924207adf8ae4a532ac37f',\n",
       " '095229f26ad7408f97f70142f53474c1',\n",
       " 'e1daffa4511e4990853433ea849ea5c3',\n",
       " 'a7e9596710c94aa1a2b75171f1148ac2',\n",
       " 'f851f37adf2249a7a1de396e1a10c7d1',\n",
       " '14cfabf9c5364669b81673cab1924726',\n",
       " '938e6989326443ae9545703a164e059f',\n",
       " 'e639aeb77c4e49388f6146eeb5bfece7',\n",
       " '6e4df77372b14e76aa1a2d619f9b9ba4',\n",
       " '57cbd1e374f546568d8056514bf996a2',\n",
       " '9ed459ac9f844021bdd43047d0cd00a8',\n",
       " '19ada83e4f5142e4a6321796f4bcfbca',\n",
       " '28d0b554a3434f9ab3b2424de694b3b2',\n",
       " '701cd6a9163044d9891be6f8d7e344d5',\n",
       " '8d7d2ac405f64d6faf5646b78ee4fba2',\n",
       " 'c6e004f1a96e4afc8a3dbb9365fe7cad',\n",
       " 'a3a7b19bf238472a95f37f44504998af',\n",
       " 'f648790df1b340b4a4b9c9db32990cea',\n",
       " '627539382d934f8ca60fae230c496a64',\n",
       " 'de09f501090441609fb77e078f492654',\n",
       " 'e8ab9822ce9a4e6fbcb43491831a47f5',\n",
       " '6fe9e41491734219952ff896ef440498',\n",
       " '0a1dc68f85994a78864f6b30a22b39ce',\n",
       " 'fbba3af7f59542469f94cb09f51a1be5',\n",
       " 'c8b40e1929154a38a8685af77851c71b',\n",
       " 'f04ec39d774d49eca9d4af76e3ecf94e',\n",
       " 'f6873a48f0c047748a1f148578ccc74a',\n",
       " '6ccc70609dc84d7db6341c05e1366f47',\n",
       " '1143d7c92a8647408c0810fe9b31a351',\n",
       " 'cabb16ade30e4bc8bbaf8066452639b5',\n",
       " '4f56788c72ee4bb388ff93e077cd3237',\n",
       " 'ab8981b21413432c9bd98cf70328c999',\n",
       " '6d81391a08814b9b8a40b128224b1cb4',\n",
       " 'e2353f7d2baa4e039812a8a07c330392',\n",
       " 'e3bcff73a61b4514b53a3e7a24701f70',\n",
       " 'd8ca819ceb814af8b648c7e089e1f45d',\n",
       " '51c50c23605b4afab19cd48c6f768e73',\n",
       " '38020bce0d0e42ef83c6386f7d326dc0',\n",
       " 'e8d6ed4c7bb44b5f8cfa27fed5e2b5a4',\n",
       " '7abdeab41b9549289ae89f3f11028ebc',\n",
       " '94cd6a1407e3434a84121420b90270d8',\n",
       " 'e49f7e312ab042588542244fc0d8ac8e',\n",
       " 'c15aec4b17974fa288cf01cbc80e7638',\n",
       " '6fcaf13a0a55402288cf8a5dff385b1c',\n",
       " '3b3381503685454889e89ae42d9eada1',\n",
       " 'e9c61e0b40d04d259eb78ee49e8e7ad2',\n",
       " '08f1efa3f9f942c1861b8ed125a9205d',\n",
       " 'ccfe26db70684a94a6dee413e9620614',\n",
       " 'dbe5b4d4a4854845bd9b37f29acf4ffe',\n",
       " '51c6bb16064e465eb1f6d78d22059330',\n",
       " 'f2dfbee21a584fa0a67b7ef305290c89',\n",
       " '63e7963862c24d46b08431c75bd5a669',\n",
       " 'c857db8ead4c4e5ba4dc0434755ee643',\n",
       " '6ae182ed32c344bca31eff6e8a78b741']"
      ]
     },
     "execution_count": 60,
     "metadata": {},
     "output_type": "execute_result"
    }
   ],
   "source": [
    "import time\n",
    "\n",
    "previous=40000\n",
    "for i in range(4100,4800,100):\n",
    "    astra_vector_store.add_documents(docs[previous:i])\n",
    "    previous=i\n",
    "    time.sleep(1)\n",
    "astra_vector_store.add_documents(docs[4800:])\n"
   ]
  },
  {
   "cell_type": "code",
   "execution_count": 61,
   "metadata": {},
   "outputs": [
    {
     "data": {
      "text/plain": [
       "<langchain_community.vectorstores.cassandra.Cassandra at 0x704fa16c6440>"
      ]
     },
     "execution_count": 61,
     "metadata": {},
     "output_type": "execute_result"
    }
   ],
   "source": [
    "astra_vector_store"
   ]
  },
  {
   "cell_type": "code",
   "execution_count": null,
   "metadata": {},
   "outputs": [],
   "source": []
  }
 ],
 "metadata": {
  "kernelspec": {
   "display_name": "venv",
   "language": "python",
   "name": "python3"
  },
  "language_info": {
   "codemirror_mode": {
    "name": "ipython",
    "version": 3
   },
   "file_extension": ".py",
   "mimetype": "text/x-python",
   "name": "python",
   "nbconvert_exporter": "python",
   "pygments_lexer": "ipython3",
   "version": "3.10.12"
  }
 },
 "nbformat": 4,
 "nbformat_minor": 2
}
